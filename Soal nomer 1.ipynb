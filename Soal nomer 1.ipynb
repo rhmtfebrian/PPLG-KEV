{
  "nbformat": 4,
  "nbformat_minor": 0,
  "metadata": {
    "colab": {
      "provenance": [],
      "authorship_tag": "ABX9TyP8vApV8OITK7YTTaqLvKRT",
      "include_colab_link": true
    },
    "kernelspec": {
      "name": "python3",
      "display_name": "Python 3"
    },
    "language_info": {
      "name": "python"
    }
  },
  "cells": [
    {
      "cell_type": "markdown",
      "metadata": {
        "id": "view-in-github",
        "colab_type": "text"
      },
      "source": [
        "<a href=\"https://colab.research.google.com/github/rhmtfebrian/PPLG-KEV/blob/main/Soal%20nomer%201.ipynb\" target=\"_parent\"><img src=\"https://colab.research.google.com/assets/colab-badge.svg\" alt=\"Open In Colab\"/></a>"
      ]
    },
    {
      "cell_type": "markdown",
      "source": [
        "# **PPLG-KEV**"
      ],
      "metadata": {
        "id": "QmrpgcHHMa1w"
      }
    },
    {
      "cell_type": "markdown",
      "source": [
        "# **Soal:**"
      ],
      "metadata": {
        "id": "Sr9EO-IiM3o-"
      }
    },
    {
      "cell_type": "markdown",
      "source": [
        "**1.** buatlah sebuah program untuk menetukan bilangan positif, bilangan negatif, bilangan nol\n",
        "\n",
        "Jawab:"
      ],
      "metadata": {
        "id": "H6zTsiIDMy0m"
      }
    },
    {
      "cell_type": "code",
      "source": [
        "#Positif\n",
        "bilangan = 6\n",
        "if bilangan > 0:\n",
        "    print(\"bilangan positif\")\n",
        "elif bilangan == 0:\n",
        "    print(\"bilangan 0\")\n",
        "else:\n",
        "    print(\"bilangan negatif\")"
      ],
      "metadata": {
        "colab": {
          "base_uri": "https://localhost:8080/"
        },
        "id": "EXoTzz92NeX-",
        "outputId": "9be06d30-4209-4838-f2b6-a541a21155a4"
      },
      "execution_count": 25,
      "outputs": [
        {
          "output_type": "stream",
          "name": "stdout",
          "text": [
            "bilangan positif\n"
          ]
        }
      ]
    },
    {
      "cell_type": "code",
      "source": [
        "#Negatif\n",
        "bilangan = -5\n",
        "if bilangan > 0:\n",
        "    print(\"bilangan positif\")\n",
        "elif bilangan == 0:\n",
        "    print(\"bilangan 0\")\n",
        "else:\n",
        "    print(\"bilangan negatif\")"
      ],
      "metadata": {
        "id": "v7g7lcUTVLM0",
        "outputId": "655740f8-cc59-445b-c9f9-8a7b300692d2",
        "colab": {
          "base_uri": "https://localhost:8080/"
        }
      },
      "execution_count": 24,
      "outputs": [
        {
          "output_type": "stream",
          "name": "stdout",
          "text": [
            "bilangan negatif\n"
          ]
        }
      ]
    },
    {
      "cell_type": "code",
      "source": [
        "#Nol\n",
        "bilangan = 0\n",
        "if bilangan > 0:\n",
        "    print(\"bilangan positif\")\n",
        "elif bilangan == 0:\n",
        "    print(\"bilangan 0\")\n",
        "else:\n",
        "    print(\"bilangan negatif\")"
      ],
      "metadata": {
        "id": "F4EHuceoVkp2",
        "outputId": "bc10bdc5-8532-4392-91f9-681beab24ce4",
        "colab": {
          "base_uri": "https://localhost:8080/"
        }
      },
      "execution_count": 22,
      "outputs": [
        {
          "output_type": "stream",
          "name": "stdout",
          "text": [
            "bilangan 0\n"
          ]
        }
      ]
    },
    {
      "cell_type": "markdown",
      "source": [
        "# **Algoritma**\n",
        "1. Mulai\n",
        "2. Input tulisan mengecek Bilangan Positif atau Negatif\n",
        "3. Input/masukan nilai bilangan\n",
        "4. Jika bilangan lebih besar dari 0 maka cetak positif\n",
        "5. Jika bilangan lebih kecil dari 0 maka cetak negatif\n",
        "6. Jika bilanga sama dengan 0 maka hasilnya 0\n",
        "7. Selesai\n",
        "\n",
        "# **Flowchart**\n",
        "![flowchart.png](data:image/png;base64,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)"
      ],
      "metadata": {
        "id": "z5a1gHdVXViX"
      }
    }
  ]
}